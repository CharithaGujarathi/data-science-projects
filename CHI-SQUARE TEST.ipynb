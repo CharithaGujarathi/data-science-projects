{
 "cells": [
  {
   "cell_type": "markdown",
   "id": "b0e90527",
   "metadata": {},
   "source": [
    "# Chi-Square Test: Association between Device Type and Customer Satisfaction"
   ]
  },
  {
   "cell_type": "markdown",
   "id": "a06c5171",
   "metadata": {},
   "source": [
    "# Step 1: State the Hypotheses\n",
    "Null Hypothesis (H0): Device type and satisfaction are independent (no relationship).\n",
    "Alternative Hypothesis (H1):Device type and satisfaction are related (there is a relationship)."
   ]
  },
  {
   "cell_type": "code",
   "execution_count": 1,
   "id": "7d11c7ea",
   "metadata": {},
   "outputs": [
    {
     "data": {
      "text/html": [
       "<div>\n",
       "<style scoped>\n",
       "    .dataframe tbody tr th:only-of-type {\n",
       "        vertical-align: middle;\n",
       "    }\n",
       "\n",
       "    .dataframe tbody tr th {\n",
       "        vertical-align: top;\n",
       "    }\n",
       "\n",
       "    .dataframe thead th {\n",
       "        text-align: right;\n",
       "    }\n",
       "</style>\n",
       "<table border=\"1\" class=\"dataframe\">\n",
       "  <thead>\n",
       "    <tr style=\"text-align: right;\">\n",
       "      <th></th>\n",
       "      <th>Smart Thermostat</th>\n",
       "      <th>Smart Light</th>\n",
       "      <th>Total</th>\n",
       "    </tr>\n",
       "  </thead>\n",
       "  <tbody>\n",
       "    <tr>\n",
       "      <th>Very Satisfied</th>\n",
       "      <td>50</td>\n",
       "      <td>70</td>\n",
       "      <td>120</td>\n",
       "    </tr>\n",
       "    <tr>\n",
       "      <th>Satisfied</th>\n",
       "      <td>80</td>\n",
       "      <td>100</td>\n",
       "      <td>180</td>\n",
       "    </tr>\n",
       "    <tr>\n",
       "      <th>Neutral</th>\n",
       "      <td>60</td>\n",
       "      <td>90</td>\n",
       "      <td>150</td>\n",
       "    </tr>\n",
       "    <tr>\n",
       "      <th>Unsatisfied</th>\n",
       "      <td>30</td>\n",
       "      <td>50</td>\n",
       "      <td>80</td>\n",
       "    </tr>\n",
       "    <tr>\n",
       "      <th>Very Unsatisfied</th>\n",
       "      <td>20</td>\n",
       "      <td>50</td>\n",
       "      <td>70</td>\n",
       "    </tr>\n",
       "    <tr>\n",
       "      <th>Total</th>\n",
       "      <td>240</td>\n",
       "      <td>360</td>\n",
       "      <td>600</td>\n",
       "    </tr>\n",
       "  </tbody>\n",
       "</table>\n",
       "</div>"
      ],
      "text/plain": [
       "                  Smart Thermostat  Smart Light  Total\n",
       "Very Satisfied                  50           70    120\n",
       "Satisfied                       80          100    180\n",
       "Neutral                         60           90    150\n",
       "Unsatisfied                     30           50     80\n",
       "Very Unsatisfied                20           50     70\n",
       "Total                          240          360    600"
      ]
     },
     "execution_count": 1,
     "metadata": {},
     "output_type": "execute_result"
    }
   ],
   "source": [
    "import numpy as np\n",
    "import pandas as pd\n",
    "from scipy.stats import chi2_contingency, chi2\n",
    "\n",
    "# Data from the problem\n",
    "data = pd.DataFrame({\n",
    "    'Smart Thermostat': [50, 80, 60, 30, 20],\n",
    "    'Smart Light': [70, 100, 90, 50, 50]\n",
    "}, index=['Very Satisfied', 'Satisfied', 'Neutral', 'Unsatisfied', 'Very Unsatisfied'])\n",
    "\n",
    "data['Total'] = data.sum(axis=1)\n",
    "data.loc['Total'] = data.sum()\n",
    "data"
   ]
  },
  {
   "cell_type": "markdown",
   "id": "f75a9a7d",
   "metadata": {},
   "source": [
    "# Step 2: Compute the Chi-Square Statistic\n",
    "We compare observed counts (from the table) with expected counts\n"
   ]
  },
  {
   "cell_type": "code",
   "execution_count": 2,
   "id": "9478d75e",
   "metadata": {},
   "outputs": [
    {
     "data": {
      "text/plain": [
       "(5.638227513227513,\n",
       " 0.22784371130697179,\n",
       " 4,\n",
       " array([[ 48.,  72.],\n",
       "        [ 72., 108.],\n",
       "        [ 60.,  90.],\n",
       "        [ 32.,  48.],\n",
       "        [ 28.,  42.]]))"
      ]
     },
     "execution_count": 2,
     "metadata": {},
     "output_type": "execute_result"
    }
   ],
   "source": [
    "# Remove the total row/column for calculation\n",
    "observed = data.iloc[:-1, :-1].values\n",
    "\n",
    "# Chi-square test using scipy\n",
    "chi2_stat, p_val, dof, expected = chi2_contingency(observed)\n",
    "\n",
    "chi2_stat, p_val, dof, expected"
   ]
  },
  {
   "cell_type": "markdown",
   "id": "475578c6",
   "metadata": {},
   "source": [
    "# Step 3: Determine the Critical Value\n",
    "- Degrees of freedom = (rows - 1) × (columns - 1) = (5 - 1) × (2 - 1) = 4\n",
    "- Significance level α = 0.05\n",
    "- Critical value from chi-square table = 9.48"
   ]
  },
  {
   "cell_type": "code",
   "execution_count": 3,
   "id": "0d7737da",
   "metadata": {},
   "outputs": [
    {
     "data": {
      "text/plain": [
       "9.487729036781154"
      ]
     },
     "execution_count": 3,
     "metadata": {},
     "output_type": "execute_result"
    }
   ],
   "source": [
    "alpha = 0.05\n",
    "critical_value = chi2.ppf(1 - alpha, dof)\n",
    "critical_value"
   ]
  },
  {
   "cell_type": "markdown",
   "id": "af0561a7",
   "metadata": {},
   "source": [
    "# Step 4: Make a Decision\n",
    "- If chi-square statistic > critical value --> Reject H0 (there is a relationship).\n",
    "- Otherwise --> Do not reject H0 (no relationship)."
   ]
  },
  {
   "cell_type": "code",
   "execution_count": 5,
   "id": "0645fcde",
   "metadata": {},
   "outputs": [
    {
     "data": {
      "text/plain": [
       "'Do not reject the Null Hypothesis -> Device type and satisfaction are independent.'"
      ]
     },
     "execution_count": 5,
     "metadata": {},
     "output_type": "execute_result"
    }
   ],
   "source": [
    "if chi2_stat > critical_value:\n",
    "    result = \"Reject the Null Hypothesis -> Device type and satisfaction are related.\"\n",
    "else:\n",
    "    result = \"Do not reject the Null Hypothesis -> Device type and satisfaction are independent.\"\n",
    "\n",
    "result"
   ]
  },
  {
   "cell_type": "code",
   "execution_count": null,
   "id": "565558d8",
   "metadata": {},
   "outputs": [],
   "source": []
  }
 ],
 "metadata": {
  "kernelspec": {
   "display_name": "base",
   "language": "python",
   "name": "python3"
  },
  "language_info": {
   "codemirror_mode": {
    "name": "ipython",
    "version": 3
   },
   "file_extension": ".py",
   "mimetype": "text/x-python",
   "name": "python",
   "nbconvert_exporter": "python",
   "pygments_lexer": "ipython3",
   "version": "3.12.7"
  }
 },
 "nbformat": 4,
 "nbformat_minor": 5
}
