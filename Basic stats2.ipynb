{
 "cells": [
  {
   "cell_type": "markdown",
   "id": "718c120c",
   "metadata": {},
   "source": [
    "# Estimation and Confidence Intervals — Print-Head Durability Study\n",
    "\n"
   ]
  },
  {
   "cell_type": "markdown",
   "id": "a6a80d4c",
   "metadata": {},
   "source": [
    "we have data of 15 print-heads.\n",
    "There durability = 1.13, 1.55, 1.43, 0.92, 1.25, 1.36, 1.32, 0.85, 1.07, 1.48, 1.20, 1.33, 1.18, 1.22, 1.29"
   ]
  },
  {
   "cell_type": "markdown",
   "id": "38a9186b",
   "metadata": {},
   "source": [
    "a)Building a 99% Confidence Interval Using Sample Standard Deviation\n",
    "- I'm using a t-distrubution cause our sample size is small n=15\n",
    "\n",
    "Steps:\n",
    "1. Calculate the sample mean (x̄) and sample standard deviation (s).\n",
    "2. Find the t-critical value (t*) for 99% confidence with (n - 1) = 14 degrees of freedom\n",
    "3. Calculate the Margin of Error = t × (s / √n)*\n",
    "4. Find the Confidence Interval = Sample Mean ± Margin of Error."
   ]
  },
  {
   "cell_type": "code",
   "execution_count": 1,
   "id": "c8efe368",
   "metadata": {},
   "outputs": [
    {
     "data": {
      "text/plain": [
       "(np.float64(1.2386666666666666), np.float64(0.19316412956959936))"
      ]
     },
     "execution_count": 1,
     "metadata": {},
     "output_type": "execute_result"
    }
   ],
   "source": [
    "import numpy as np\n",
    "from scipy import stats\n",
    "\n",
    "data = [1.13, 1.55, 1.43, 0.92, 1.25, 1.36, 1.32, 0.85, 1.07, 1.48, 1.20, 1.33, 1.18, 1.22, 1.29]\n",
    "\n",
    "n = len(data)  \n",
    "sample_mean = np.mean(data)  \n",
    "sample_std = np.std(data, ddof=1)  \n",
    "\n",
    "(sample_mean, sample_std)\n"
   ]
  },
  {
   "cell_type": "markdown",
   "id": "6d369190",
   "metadata": {},
   "source": [
    "b) Building a 99% Confidence Interval Using Known Population Standard Deviation\n",
    "\n",
    "I am using z-distribution here because the population standard deviation is given (σ) = 0.2.\n",
    "\n",
    "Steps:\n",
    "1.the sample mean is the same.\n",
    "2.σ = 0.2 \n",
    "3.Finding z-critical value (z*) for 99% confidence.\n",
    "4. Calculate the Margin of Error (ME)\n",
    "5. Find the Confidence Interval = Sample Mean ± Margin of Error.\n"
   ]
  },
  {
   "cell_type": "code",
   "execution_count": 2,
   "id": "15793bd9",
   "metadata": {},
   "outputs": [
    {
     "data": {
      "text/plain": [
       "(np.float64(1.0901973384384906), np.float64(1.3871359948948425))"
      ]
     },
     "execution_count": 2,
     "metadata": {},
     "output_type": "execute_result"
    }
   ],
   "source": [
    "confidence_level = 0.99\n",
    "df = n - 1  \n",
    "t_critical = stats.t.ppf(1 - (1 - confidence_level) / 2, df) \n",
    "\n",
    "margin_of_error_a = t_critical * (sample_std / np.sqrt(n))\n",
    "\n",
    "ci_lower_a = sample_mean - margin_of_error_a\n",
    "ci_upper_a = sample_mean + margin_of_error_a\n",
    "\n",
    "(ci_lower_a, ci_upper_a)\n"
   ]
  },
  {
   "cell_type": "code",
   "execution_count": 3,
   "id": "de952658",
   "metadata": {},
   "outputs": [
    {
     "data": {
      "text/plain": [
       "(np.float64(1.1056514133957607), np.float64(1.3716819199375725))"
      ]
     },
     "execution_count": 3,
     "metadata": {},
     "output_type": "execute_result"
    }
   ],
   "source": [
    "population_std = 0.2  \n",
    "\n",
    "z_critical = stats.norm.ppf(1 - (1 - confidence_level) / 2)  \n",
    "\n",
    "margin_of_error_b = z_critical * (population_std / np.sqrt(n))\n",
    "\n",
    "ci_lower_b = sample_mean - margin_of_error_b\n",
    "ci_upper_b = sample_mean + margin_of_error_b\n",
    "\n",
    "(ci_lower_b, ci_upper_b)\n"
   ]
  }
 ],
 "metadata": {
  "kernelspec": {
   "display_name": "Python 3",
   "language": "python",
   "name": "python3"
  },
  "language_info": {
   "codemirror_mode": {
    "name": "ipython",
    "version": 3
   },
   "file_extension": ".py",
   "mimetype": "text/x-python",
   "name": "python",
   "nbconvert_exporter": "python",
   "pygments_lexer": "ipython3",
   "version": "3.13.2"
  }
 },
 "nbformat": 4,
 "nbformat_minor": 5
}
