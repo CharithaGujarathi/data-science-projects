{
 "cells": [
  {
   "cell_type": "markdown",
   "id": "1bb3e768",
   "metadata": {},
   "source": [
    "Exercise 1: Prime Numbers"
   ]
  },
  {
   "cell_type": "code",
   "execution_count": null,
   "id": "adb07605",
   "metadata": {},
   "outputs": [],
   "source": [
    "def is_prime(number):\n",
    "    if number <= 1:\n",
    "        return False\n",
    "\n",
    "    for i in range(2, (number // 2) + 1):\n",
    "        if number % i == 0:\n",
    "            return False  \n",
    "    return True  \n",
    "\n",
    "num = int(input(\"Enter a number: \"))\n",
    "\n",
    "if is_prime(num):\n",
    "    print(num, \"is a Prime Number.\")\n",
    "else:\n",
    "    print(num, \"is NOT a Prime Number.\")"
   ]
  },
  {
   "cell_type": "markdown",
   "id": "d886a067",
   "metadata": {},
   "source": [
    "Excercise 2:Product of Random numbers"
   ]
  },
  {
   "cell_type": "code",
   "execution_count": 1,
   "id": "bb888073",
   "metadata": {},
   "outputs": [
    {
     "name": "stdout",
     "output_type": "stream",
     "text": [
      "Oops! The right answer is 162.\n"
     ]
    }
   ],
   "source": [
    "import random\n",
    "\n",
    "def product_quiz(min_val=1, max_val=20):\n",
    "    num1 = random.randint(min_val, max_val)\n",
    "    num2 = random.randint(min_val, max_val)\n",
    "    answer = int(input(f\"Calculate: {num1} × {num2} = \"))\n",
    "    if answer == num1 * num2:\n",
    "        print(\" That's correct.\")\n",
    "    else:\n",
    "        print(f\"Oops! The right answer is {num1 * num2}.\")\n",
    "\n",
    "product_quiz()\n"
   ]
  },
  {
   "cell_type": "markdown",
   "id": "4b1fe3b3",
   "metadata": {},
   "source": [
    "Exercise 3: Squares of Even/Odd Numbers"
   ]
  },
  {
   "cell_type": "code",
   "execution_count": null,
   "id": "5ba479a9",
   "metadata": {},
   "outputs": [
    {
     "name": "stdout",
     "output_type": "stream",
     "text": [
      "100 squared is 10000\n",
      "102 squared is 10404\n",
      "104 squared is 10816\n",
      "106 squared is 11236\n",
      "108 squared is 11664\n",
      "110 squared is 12100\n",
      "112 squared is 12544\n",
      "114 squared is 12996\n",
      "116 squared is 13456\n",
      "118 squared is 13924\n",
      "120 squared is 14400\n",
      "122 squared is 14884\n",
      "124 squared is 15376\n",
      "126 squared is 15876\n",
      "128 squared is 16384\n",
      "130 squared is 16900\n",
      "132 squared is 17424\n",
      "134 squared is 17956\n",
      "136 squared is 18496\n",
      "138 squared is 19044\n",
      "140 squared is 19600\n",
      "142 squared is 20164\n",
      "144 squared is 20736\n",
      "146 squared is 21316\n",
      "148 squared is 21904\n",
      "150 squared is 22500\n",
      "152 squared is 23104\n",
      "154 squared is 23716\n",
      "156 squared is 24336\n",
      "158 squared is 24964\n",
      "160 squared is 25600\n",
      "162 squared is 26244\n",
      "164 squared is 26896\n",
      "166 squared is 27556\n",
      "168 squared is 28224\n",
      "170 squared is 28900\n",
      "172 squared is 29584\n",
      "174 squared is 30276\n",
      "176 squared is 30976\n",
      "178 squared is 31684\n",
      "180 squared is 32400\n",
      "182 squared is 33124\n",
      "184 squared is 33856\n",
      "186 squared is 34596\n",
      "188 squared is 35344\n",
      "190 squared is 36100\n",
      "192 squared is 36864\n",
      "194 squared is 37636\n",
      "196 squared is 38416\n",
      "198 squared is 39204\n",
      "200 squared is 40000\n"
     ]
    }
   ],
   "source": [
    "# EVEN numbers\n",
    "\n",
    "# Looping from 100 to 200\n",
    "for number in range(100, 201):\n",
    "    if number % 2 == 0:  # Checks if number is even\n",
    "        print(f\"{number} squared is {number ** 2}\")\n"
   ]
  },
  {
   "cell_type": "markdown",
   "id": "e266afab",
   "metadata": {},
   "source": [
    "exercise 4: word counter"
   ]
  },
  {
   "cell_type": "code",
   "execution_count": null,
   "id": "290fb336",
   "metadata": {},
   "outputs": [
    {
     "name": "stdout",
     "output_type": "stream",
     "text": [
      "'This': 2\n",
      "'is': 1\n",
      "'a': 1\n",
      "'sample': 1\n",
      "'text': 2\n",
      "'will': 1\n",
      "'be': 1\n",
      "'used': 1\n",
      "'to': 1\n",
      "'demonstrate': 1\n",
      "'the': 1\n",
      "'word': 1\n",
      "'counter.': 1\n"
     ]
    }
   ],
   "source": [
    "input_text = \"This is a sample text  This text will be used to demonstrate the word counter.\"\n",
    "words = input_text.split()\n",
    "word_count = {}\n",
    "for word in words:\n",
    "    if word in word_count:\n",
    "        word_count[word] += 1\n",
    "    else:\n",
    "        word_count[word] = 1\n",
    "for word, count in word_count.items():\n",
    "    print(f\"'{word}': {count}\")\n"
   ]
  },
  {
   "cell_type": "markdown",
   "id": "4f141279",
   "metadata": {},
   "source": [
    "Exercise 5: Check for Palindrome"
   ]
  },
  {
   "cell_type": "code",
   "execution_count": 1,
   "id": "77c5a68f",
   "metadata": {},
   "outputs": [
    {
     "name": "stdout",
     "output_type": "stream",
     "text": [
      "True\n",
      "True\n"
     ]
    }
   ],
   "source": [
    "def is_palindrome(text):\n",
    "\n",
    "    cleaned = ''.join(char.lower() for char in text if char.isalnum())\n",
    "    \n",
    "    return cleaned == cleaned[::-1]\n",
    "\n",
    "print(is_palindrome(\"racecar\"))     \n",
    "print(is_palindrome(\"RaceCar\"))      \n"
   ]
  },
  {
   "cell_type": "code",
   "execution_count": null,
   "id": "a5647656",
   "metadata": {},
   "outputs": [],
   "source": []
  }
 ],
 "metadata": {
  "kernelspec": {
   "display_name": "base",
   "language": "python",
   "name": "python3"
  },
  "language_info": {
   "codemirror_mode": {
    "name": "ipython",
    "version": 3
   },
   "file_extension": ".py",
   "mimetype": "text/x-python",
   "name": "python",
   "nbconvert_exporter": "python",
   "pygments_lexer": "ipython3",
   "version": "3.12.7"
  }
 },
 "nbformat": 4,
 "nbformat_minor": 5
}
