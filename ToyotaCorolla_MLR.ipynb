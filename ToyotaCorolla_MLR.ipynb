{
 "cells": [
  {
   "cell_type": "markdown",
   "id": "03db01d7",
   "metadata": {},
   "source": [
    "# Toyota Corolla — Multiple Linear Regression"
   ]
  },
  {
   "cell_type": "code",
   "execution_count": 20,
   "id": "bd5c3963",
   "metadata": {},
   "outputs": [],
   "source": [
    "\n",
    "import pandas as pd\n",
    "import numpy as np\n",
    "import matplotlib.pyplot as plt\n",
    "from sklearn.model_selection import train_test_split\n",
    "from sklearn.linear_model import LinearRegression, RidgeCV, LassoCV\n",
    "from sklearn.preprocessing import StandardScaler\n",
    "from sklearn.pipeline import Pipeline\n",
    "from sklearn.metrics import r2_score, mean_squared_error, mean_absolute_error\n",
    "import statsmodels.api as sm\n",
    "from statsmodels.stats.outliers_influence import variance_inflation_factor\n",
    "\n",
    "pd.set_option('display.float_format', lambda x: f'{x:,.4f}')\n",
    "RANDOM_STATE = 42\n",
    "\n"
   ]
  },
  {
   "cell_type": "markdown",
   "id": "9b4549c0",
   "metadata": {},
   "source": [
    "## 2) Load the data\n"
   ]
  },
  {
   "cell_type": "code",
   "execution_count": 21,
   "id": "eb191257",
   "metadata": {},
   "outputs": [
    {
     "name": "stdout",
     "output_type": "stream",
     "text": [
      "Shape: (1436, 11)\n"
     ]
    },
    {
     "data": {
      "text/html": [
       "<div>\n",
       "<style scoped>\n",
       "    .dataframe tbody tr th:only-of-type {\n",
       "        vertical-align: middle;\n",
       "    }\n",
       "\n",
       "    .dataframe tbody tr th {\n",
       "        vertical-align: top;\n",
       "    }\n",
       "\n",
       "    .dataframe thead th {\n",
       "        text-align: right;\n",
       "    }\n",
       "</style>\n",
       "<table border=\"1\" class=\"dataframe\">\n",
       "  <thead>\n",
       "    <tr style=\"text-align: right;\">\n",
       "      <th></th>\n",
       "      <th>Price</th>\n",
       "      <th>Age_08_04</th>\n",
       "      <th>KM</th>\n",
       "      <th>Fuel_Type</th>\n",
       "      <th>HP</th>\n",
       "      <th>Automatic</th>\n",
       "      <th>cc</th>\n",
       "      <th>Doors</th>\n",
       "      <th>Cylinders</th>\n",
       "      <th>Gears</th>\n",
       "      <th>Weight</th>\n",
       "    </tr>\n",
       "  </thead>\n",
       "  <tbody>\n",
       "    <tr>\n",
       "      <th>0</th>\n",
       "      <td>13500</td>\n",
       "      <td>23</td>\n",
       "      <td>46986</td>\n",
       "      <td>Diesel</td>\n",
       "      <td>90</td>\n",
       "      <td>0</td>\n",
       "      <td>2000</td>\n",
       "      <td>3</td>\n",
       "      <td>4</td>\n",
       "      <td>5</td>\n",
       "      <td>1165</td>\n",
       "    </tr>\n",
       "    <tr>\n",
       "      <th>1</th>\n",
       "      <td>13750</td>\n",
       "      <td>23</td>\n",
       "      <td>72937</td>\n",
       "      <td>Diesel</td>\n",
       "      <td>90</td>\n",
       "      <td>0</td>\n",
       "      <td>2000</td>\n",
       "      <td>3</td>\n",
       "      <td>4</td>\n",
       "      <td>5</td>\n",
       "      <td>1165</td>\n",
       "    </tr>\n",
       "    <tr>\n",
       "      <th>2</th>\n",
       "      <td>13950</td>\n",
       "      <td>24</td>\n",
       "      <td>41711</td>\n",
       "      <td>Diesel</td>\n",
       "      <td>90</td>\n",
       "      <td>0</td>\n",
       "      <td>2000</td>\n",
       "      <td>3</td>\n",
       "      <td>4</td>\n",
       "      <td>5</td>\n",
       "      <td>1165</td>\n",
       "    </tr>\n",
       "    <tr>\n",
       "      <th>3</th>\n",
       "      <td>14950</td>\n",
       "      <td>26</td>\n",
       "      <td>48000</td>\n",
       "      <td>Diesel</td>\n",
       "      <td>90</td>\n",
       "      <td>0</td>\n",
       "      <td>2000</td>\n",
       "      <td>3</td>\n",
       "      <td>4</td>\n",
       "      <td>5</td>\n",
       "      <td>1165</td>\n",
       "    </tr>\n",
       "    <tr>\n",
       "      <th>4</th>\n",
       "      <td>13750</td>\n",
       "      <td>30</td>\n",
       "      <td>38500</td>\n",
       "      <td>Diesel</td>\n",
       "      <td>90</td>\n",
       "      <td>0</td>\n",
       "      <td>2000</td>\n",
       "      <td>3</td>\n",
       "      <td>4</td>\n",
       "      <td>5</td>\n",
       "      <td>1170</td>\n",
       "    </tr>\n",
       "  </tbody>\n",
       "</table>\n",
       "</div>"
      ],
      "text/plain": [
       "   Price  Age_08_04     KM Fuel_Type  HP  Automatic    cc  Doors  Cylinders  \\\n",
       "0  13500         23  46986    Diesel  90          0  2000      3          4   \n",
       "1  13750         23  72937    Diesel  90          0  2000      3          4   \n",
       "2  13950         24  41711    Diesel  90          0  2000      3          4   \n",
       "3  14950         26  48000    Diesel  90          0  2000      3          4   \n",
       "4  13750         30  38500    Diesel  90          0  2000      3          4   \n",
       "\n",
       "   Gears  Weight  \n",
       "0      5    1165  \n",
       "1      5    1165  \n",
       "2      5    1165  \n",
       "3      5    1165  \n",
       "4      5    1170  "
      ]
     },
     "execution_count": 21,
     "metadata": {},
     "output_type": "execute_result"
    }
   ],
   "source": [
    "\n",
    "df = pd.read_csv('ToyotaCorolla - MLR.csv')\n",
    "print('Shape:', df.shape)\n",
    "df.head()\n"
   ]
  },
  {
   "cell_type": "markdown",
   "id": "2299918d",
   "metadata": {},
   "source": [
    "## 3) Simple EDA\n",
    "\n",
    "Check types, missing values and summary statistics."
   ]
  },
  {
   "cell_type": "code",
   "execution_count": 36,
   "id": "5990dda7",
   "metadata": {},
   "outputs": [
    {
     "name": "stdout",
     "output_type": "stream",
     "text": [
      "Price         int64\n",
      "Age_08_04     int64\n",
      "KM            int64\n",
      "Fuel_Type    object\n",
      "HP            int64\n",
      "Automatic     int64\n",
      "cc            int64\n",
      "Doors         int64\n",
      "Cylinders     int64\n",
      "Gears         int64\n",
      "Weight        int64\n",
      "dtype: object\n",
      "\n",
      "Missing values per column:\n",
      " Price        0\n",
      "Age_08_04    0\n",
      "KM           0\n",
      "Fuel_Type    0\n",
      "HP           0\n",
      "Automatic    0\n",
      "cc           0\n",
      "Doors        0\n",
      "Cylinders    0\n",
      "Gears        0\n",
      "Weight       0\n",
      "dtype: int64\n"
     ]
    },
    {
     "data": {
      "text/html": [
       "<div>\n",
       "<style scoped>\n",
       "    .dataframe tbody tr th:only-of-type {\n",
       "        vertical-align: middle;\n",
       "    }\n",
       "\n",
       "    .dataframe tbody tr th {\n",
       "        vertical-align: top;\n",
       "    }\n",
       "\n",
       "    .dataframe thead th {\n",
       "        text-align: right;\n",
       "    }\n",
       "</style>\n",
       "<table border=\"1\" class=\"dataframe\">\n",
       "  <thead>\n",
       "    <tr style=\"text-align: right;\">\n",
       "      <th></th>\n",
       "      <th>Price</th>\n",
       "      <th>Age_08_04</th>\n",
       "      <th>KM</th>\n",
       "      <th>HP</th>\n",
       "      <th>Automatic</th>\n",
       "      <th>cc</th>\n",
       "      <th>Doors</th>\n",
       "      <th>Cylinders</th>\n",
       "      <th>Gears</th>\n",
       "      <th>Weight</th>\n",
       "    </tr>\n",
       "  </thead>\n",
       "  <tbody>\n",
       "    <tr>\n",
       "      <th>count</th>\n",
       "      <td>1,436.0000</td>\n",
       "      <td>1,436.0000</td>\n",
       "      <td>1,436.0000</td>\n",
       "      <td>1,436.0000</td>\n",
       "      <td>1,436.0000</td>\n",
       "      <td>1,436.0000</td>\n",
       "      <td>1,436.0000</td>\n",
       "      <td>1,436.0000</td>\n",
       "      <td>1,436.0000</td>\n",
       "      <td>1,436.0000</td>\n",
       "    </tr>\n",
       "    <tr>\n",
       "      <th>mean</th>\n",
       "      <td>10,730.8245</td>\n",
       "      <td>55.9471</td>\n",
       "      <td>68,533.2597</td>\n",
       "      <td>101.5021</td>\n",
       "      <td>0.0557</td>\n",
       "      <td>1,576.8558</td>\n",
       "      <td>4.0334</td>\n",
       "      <td>4.0000</td>\n",
       "      <td>5.0265</td>\n",
       "      <td>1,072.4596</td>\n",
       "    </tr>\n",
       "    <tr>\n",
       "      <th>std</th>\n",
       "      <td>3,626.9646</td>\n",
       "      <td>18.6000</td>\n",
       "      <td>37,506.4489</td>\n",
       "      <td>14.9811</td>\n",
       "      <td>0.2294</td>\n",
       "      <td>424.3868</td>\n",
       "      <td>0.9527</td>\n",
       "      <td>0.0000</td>\n",
       "      <td>0.1885</td>\n",
       "      <td>52.6411</td>\n",
       "    </tr>\n",
       "    <tr>\n",
       "      <th>min</th>\n",
       "      <td>4,350.0000</td>\n",
       "      <td>1.0000</td>\n",
       "      <td>1.0000</td>\n",
       "      <td>69.0000</td>\n",
       "      <td>0.0000</td>\n",
       "      <td>1,300.0000</td>\n",
       "      <td>2.0000</td>\n",
       "      <td>4.0000</td>\n",
       "      <td>3.0000</td>\n",
       "      <td>1,000.0000</td>\n",
       "    </tr>\n",
       "    <tr>\n",
       "      <th>25%</th>\n",
       "      <td>8,450.0000</td>\n",
       "      <td>44.0000</td>\n",
       "      <td>43,000.0000</td>\n",
       "      <td>90.0000</td>\n",
       "      <td>0.0000</td>\n",
       "      <td>1,400.0000</td>\n",
       "      <td>3.0000</td>\n",
       "      <td>4.0000</td>\n",
       "      <td>5.0000</td>\n",
       "      <td>1,040.0000</td>\n",
       "    </tr>\n",
       "    <tr>\n",
       "      <th>50%</th>\n",
       "      <td>9,900.0000</td>\n",
       "      <td>61.0000</td>\n",
       "      <td>63,389.5000</td>\n",
       "      <td>110.0000</td>\n",
       "      <td>0.0000</td>\n",
       "      <td>1,600.0000</td>\n",
       "      <td>4.0000</td>\n",
       "      <td>4.0000</td>\n",
       "      <td>5.0000</td>\n",
       "      <td>1,070.0000</td>\n",
       "    </tr>\n",
       "    <tr>\n",
       "      <th>75%</th>\n",
       "      <td>11,950.0000</td>\n",
       "      <td>70.0000</td>\n",
       "      <td>87,020.7500</td>\n",
       "      <td>110.0000</td>\n",
       "      <td>0.0000</td>\n",
       "      <td>1,600.0000</td>\n",
       "      <td>5.0000</td>\n",
       "      <td>4.0000</td>\n",
       "      <td>5.0000</td>\n",
       "      <td>1,085.0000</td>\n",
       "    </tr>\n",
       "    <tr>\n",
       "      <th>max</th>\n",
       "      <td>32,500.0000</td>\n",
       "      <td>80.0000</td>\n",
       "      <td>243,000.0000</td>\n",
       "      <td>192.0000</td>\n",
       "      <td>1.0000</td>\n",
       "      <td>16,000.0000</td>\n",
       "      <td>5.0000</td>\n",
       "      <td>4.0000</td>\n",
       "      <td>6.0000</td>\n",
       "      <td>1,615.0000</td>\n",
       "    </tr>\n",
       "  </tbody>\n",
       "</table>\n",
       "</div>"
      ],
      "text/plain": [
       "            Price  Age_08_04           KM         HP  Automatic          cc  \\\n",
       "count  1,436.0000 1,436.0000   1,436.0000 1,436.0000 1,436.0000  1,436.0000   \n",
       "mean  10,730.8245    55.9471  68,533.2597   101.5021     0.0557  1,576.8558   \n",
       "std    3,626.9646    18.6000  37,506.4489    14.9811     0.2294    424.3868   \n",
       "min    4,350.0000     1.0000       1.0000    69.0000     0.0000  1,300.0000   \n",
       "25%    8,450.0000    44.0000  43,000.0000    90.0000     0.0000  1,400.0000   \n",
       "50%    9,900.0000    61.0000  63,389.5000   110.0000     0.0000  1,600.0000   \n",
       "75%   11,950.0000    70.0000  87,020.7500   110.0000     0.0000  1,600.0000   \n",
       "max   32,500.0000    80.0000 243,000.0000   192.0000     1.0000 16,000.0000   \n",
       "\n",
       "           Doors  Cylinders      Gears     Weight  \n",
       "count 1,436.0000 1,436.0000 1,436.0000 1,436.0000  \n",
       "mean      4.0334     4.0000     5.0265 1,072.4596  \n",
       "std       0.9527     0.0000     0.1885    52.6411  \n",
       "min       2.0000     4.0000     3.0000 1,000.0000  \n",
       "25%       3.0000     4.0000     5.0000 1,040.0000  \n",
       "50%       4.0000     4.0000     5.0000 1,070.0000  \n",
       "75%       5.0000     4.0000     5.0000 1,085.0000  \n",
       "max       5.0000     4.0000     6.0000 1,615.0000  "
      ]
     },
     "execution_count": 36,
     "metadata": {},
     "output_type": "execute_result"
    }
   ],
   "source": [
    "\n",
    "print(df.dtypes)\n",
    "print('\\nMissing values per column:\\n', df.isna().sum())\n",
    "df.describe()\n",
    "\n",
    "\n"
   ]
  },
  {
   "cell_type": "markdown",
   "id": "01d7bcb2",
   "metadata": {},
   "source": [
    "### Histograms for numeric columns"
   ]
  },
  {
   "cell_type": "code",
   "execution_count": 23,
   "id": "c8f0524f",
   "metadata": {},
   "outputs": [
    {
     "data": {
      "image/png": "[encoded data removed]",
      "text/plain": [
       "<Figure size 500x250 with 1 Axes>"
      ]
     },
     "metadata": {},
     "output_type": "display_data"
    },
    {
     "data": {
      "image/png": "[encoded data removed]",
      "text/plain": [
       "<Figure size 500x250 with 1 Axes>"
      ]
     },
     "metadata": {},
     "output_type": "display_data"
    },
    {
     "data": {
      "image/png": "[encoded data removed]",
      "text/plain": [
       "<Figure size 500x250 with 1 Axes>"
      ]
     },
     "metadata": {},
     "output_type": "display_data"
    },
    {
     "data": {
      "image/png": "[encoded data removed]",
      "text/plain": [
       "<Figure size 500x250 with 1 Axes>"
      ]
     },
     "metadata": {},
     "output_type": "display_data"
    },
    {
     "data": {
      "image/png": "[encoded data removed]",
      "text/plain": [
       "<Figure size 500x250 with 1 Axes>"
      ]
     },
     "metadata": {},
     "output_type": "display_data"
    },
    {
     "data": {
      "image/png": "[encoded data removed]",
      "text/plain": [
       "<Figure size 500x250 with 1 Axes>"
      ]
     },
     "metadata": {},
     "output_type": "display_data"
    },
    {
     "data": {
      "image/png": "[encoded data removed]",
      "text/plain": [
       "<Figure size 500x250 with 1 Axes>"
      ]
     },
     "metadata": {},
     "output_type": "display_data"
    },
    {
     "data": {
      "image/png": "[encoded data removed]",
      "text/plain": [
       "<Figure size 500x250 with 1 Axes>"
      ]
     },
     "metadata": {},
     "output_type": "display_data"
    },
    {
     "data": {
      "image/png": "[encoded data removed]",
      "text/plain": [
       "<Figure size 500x250 with 1 Axes>"
      ]
     },
     "metadata": {},
     "output_type": "display_data"
    },
    {
     "data": {
      "image/png": "[encoded data removed]",
      "text/plain": [
       "<Figure size 500x250 with 1 Axes>"
      ]
     },
     "metadata": {},
     "output_type": "display_data"
    }
   ],
   "source": [
    "\n",
    "numeric_cols = df.select_dtypes(include=[np.number]).columns.tolist()\n",
    "for col in numeric_cols:\n",
    "    plt.figure(figsize=(5,2.5))\n",
    "    plt.hist(df[col].dropna(), bins=20)\n",
    "    plt.title(col)\n",
    "    plt.tight_layout()\n",
    "    plt.show()\n"
   ]
  },
  {
   "cell_type": "markdown",
   "id": "8306e933",
   "metadata": {},
   "source": [
    "## 4) Preprocessing\n",
    "\n",
    "One-hot encode Fuel_Type and prepare X and y."
   ]
  },
  {
   "cell_type": "code",
   "execution_count": 24,
   "id": "364a26a0",
   "metadata": {},
   "outputs": [
    {
     "name": "stdout",
     "output_type": "stream",
     "text": [
      "Dropped constant columns: ['Cylinders']\n",
      "Features: ['Age_08_04', 'KM', 'HP', 'Automatic', 'cc', 'Doors', 'Gears', 'Weight', 'Fuel_Type_Diesel', 'Fuel_Type_Petrol']\n"
     ]
    }
   ],
   "source": [
    "\n",
    "df_prep = df.copy()\n",
    "if 'Fuel_Type' in df_prep.columns:\n",
    "    df_prep = pd.get_dummies(df_prep, columns=['Fuel_Type'], drop_first=True)\n",
    "\n",
    "target = 'Price'\n",
    "y = df_prep[target]\n",
    "X = df_prep.drop(columns=[target])\n",
    "\n",
    "# Drop constant columns\n",
    "constant_cols = [c for c in X.columns if X[c].nunique() <= 1]\n",
    "if constant_cols:\n",
    "    X = X.drop(columns=constant_cols)\n",
    "    print('Dropped constant columns:', constant_cols)\n",
    "\n",
    "print('Features:', X.columns.tolist())\n"
   ]
  },
  {
   "cell_type": "markdown",
   "id": "54bc7948",
   "metadata": {},
   "source": [
    "## 5) Train/Test split (80/20)"
   ]
  },
  {
   "cell_type": "code",
   "execution_count": 25,
   "id": "10a5004e",
   "metadata": {},
   "outputs": [
    {
     "name": "stdout",
     "output_type": "stream",
     "text": [
      "Train shape: (1148, 10) Test shape: (288, 10)\n"
     ]
    }
   ],
   "source": [
    "\n",
    "X_train, X_test, y_train, y_test = train_test_split(X, y, test_size=0.2, random_state=RANDOM_STATE)\n",
    "print('Train shape:', X_train.shape, 'Test shape:', X_test.shape)\n"
   ]
  },
  {
   "cell_type": "code",
   "execution_count": 26,
   "id": "cb2665f9",
   "metadata": {},
   "outputs": [],
   "source": [
    "\n",
    "def rmse(y_true, y_pred): return mean_squared_error(y_true, y_pred, squared=False)\n",
    "\n",
    "def evaluate(name, model, Xtr, ytr, Xte, yte):\n",
    "    ytr_pred = model.predict(Xtr)\n",
    "    yte_pred = model.predict(Xte)\n",
    "    return {\n",
    "        'Model': name,\n",
    "        'R2_train': r2_score(ytr, ytr_pred),\n",
    "        'R2_test': r2_score(yte, yte_pred),\n",
    "        'RMSE_train': rmse(ytr, ytr_pred),\n",
    "        'RMSE_test': rmse(yte, yte_pred),\n",
    "        'MAE_test': mean_absolute_error(yte, yte_pred)\n",
    "    }\n",
    "\n",
    "def compute_vif(df_features):\n",
    "    X_const = sm.add_constant(df_features)\n",
    "    vifs = pd.Series([variance_inflation_factor(X_const.values, i+1) for i in range(len(df_features.columns))],\n",
    "                     index=df_features.columns)\n",
    "    return vifs\n"
   ]
  },
  {
   "cell_type": "markdown",
   "id": "6ad06f17",
   "metadata": {},
   "source": [
    "## 6) Model 1 — All features\n",
    "\n",
    "Fit a Linear Regression with all features."
   ]
  },
  {
   "cell_type": "code",
   "execution_count": 27,
   "id": "1cbecc6f",
   "metadata": {},
   "outputs": [
    {
     "name": "stdout",
     "output_type": "stream",
     "text": [
      "Intercept: -14255.385993565298\n"
     ]
    },
    {
     "data": {
      "text/plain": [
       "Fuel_Type_Petrol   1,370.8089\n",
       "Gears                551.6007\n",
       "Automatic            148.8309\n",
       "Weight                25.8850\n",
       "HP                    14.0395\n",
       "KM                    -0.0162\n",
       "cc                    -0.0304\n",
       "Doors                -60.3110\n",
       "Fuel_Type_Diesel     -68.5488\n",
       "Age_08_04           -120.8305\n",
       "dtype: float64"
      ]
     },
     "metadata": {},
     "output_type": "display_data"
    },
    {
     "name": "stderr",
     "output_type": "stream",
     "text": [
      "c:\\Users\\rajku\\anaconda3\\Lib\\site-packages\\sklearn\\metrics\\_regression.py:492: FutureWarning: 'squared' is deprecated in version 1.4 and will be removed in 1.6. To calculate the root mean squared error, use the function'root_mean_squared_error'.\n",
      "  warnings.warn(\n",
      "c:\\Users\\rajku\\anaconda3\\Lib\\site-packages\\sklearn\\metrics\\_regression.py:492: FutureWarning: 'squared' is deprecated in version 1.4 and will be removed in 1.6. To calculate the root mean squared error, use the function'root_mean_squared_error'.\n",
      "  warnings.warn(\n"
     ]
    },
    {
     "data": {
      "text/plain": [
       "{'Model': 'Model 1 - All features',\n",
       " 'R2_train': 0.8702643169608926,\n",
       " 'R2_test': 0.8348888040611082,\n",
       " 'RMSE_train': 1303.3396224118353,\n",
       " 'RMSE_test': 1484.265415329652,\n",
       " 'MAE_test': 990.8872739193931}"
      ]
     },
     "execution_count": 27,
     "metadata": {},
     "output_type": "execute_result"
    }
   ],
   "source": [
    "\n",
    "model1 = LinearRegression()\n",
    "model1.fit(X_train, y_train)\n",
    "coefs = pd.Series(model1.coef_, index=X_train.columns)\n",
    "print('Intercept:', model1.intercept_)\n",
    "display(coefs.sort_values(ascending=False))\n",
    "m1_metrics = evaluate('Model 1 - All features', model1, X_train, y_train, X_test, y_test)\n",
    "m1_metrics\n"
   ]
  },
  {
   "cell_type": "markdown",
   "id": "09fd9622",
   "metadata": {},
   "source": [
    "## 7) Model 2 — Diagnostics to identify weak features\n",
    "\n",
    "We compute standardized betas, p-values, and VIF. Then flag features meeting at least two weak conditions."
   ]
  },
  {
   "cell_type": "code",
   "execution_count": 28,
   "id": "cb631854",
   "metadata": {},
   "outputs": [
    {
     "name": "stdout",
     "output_type": "stream",
     "text": [
      "                            OLS Regression Results                            \n",
      "==============================================================================\n",
      "Dep. Variable:                  Price   R-squared:                       0.870\n",
      "Model:                            OLS   Adj. R-squared:                  0.869\n",
      "Method:                 Least Squares   F-statistic:                     762.7\n",
      "Date:                Sun, 31 Aug 2025   Prob (F-statistic):               0.00\n",
      "Time:                        18:48:05   Log-Likelihood:                -9863.2\n",
      "No. Observations:                1148   AIC:                         1.975e+04\n",
      "Df Residuals:                    1137   BIC:                         1.980e+04\n",
      "Df Model:                          10                                         \n",
      "Covariance Type:            nonrobust                                         \n",
      "====================================================================================\n",
      "                       coef    std err          t      P>|t|      [0.025      0.975]\n",
      "------------------------------------------------------------------------------------\n",
      "const            -1.426e+04   1751.390     -8.139      0.000   -1.77e+04   -1.08e+04\n",
      "Age_08_04         -120.8305      2.887    -41.859      0.000    -126.494    -115.167\n",
      "KM                  -0.0162      0.001    -11.053      0.000      -0.019      -0.013\n",
      "HP                  14.0395      4.027      3.486      0.001       6.138      21.941\n",
      "Automatic          148.8309    177.194      0.840      0.401    -198.833     496.495\n",
      "cc                  -0.0304      0.091     -0.335      0.737      -0.208       0.147\n",
      "Doors              -60.3110     44.951     -1.342      0.180    -148.506      27.884\n",
      "Gears              551.6007    206.048      2.677      0.008     147.324     955.877\n",
      "Weight              25.8850      1.497     17.295      0.000      22.948      28.821\n",
      "Fuel_Type_Diesel   -68.5488    391.632     -0.175      0.861    -836.952     699.854\n",
      "Fuel_Type_Petrol  1370.8089    335.967      4.080      0.000     711.624    2029.993\n",
      "==============================================================================\n",
      "Omnibus:                      212.816   Durbin-Watson:                   2.035\n",
      "Prob(Omnibus):                  0.000   Jarque-Bera (JB):             2408.915\n",
      "Skew:                          -0.492   Prob(JB):                         0.00\n",
      "Kurtosis:                      10.028   Cond. No.                     3.57e+06\n",
      "==============================================================================\n",
      "\n",
      "Notes:\n",
      "[1] Standard Errors assume that the covariance matrix of the errors is correctly specified.\n",
      "[2] The condition number is large, 3.57e+06. This might indicate that there are\n",
      "strong multicollinearity or other numerical problems.\n"
     ]
    }
   ],
   "source": [
    "\n",
    "# Standardized betas\n",
    "scaler_X = StandardScaler().fit(X_train)\n",
    "scaler_y = StandardScaler().fit(y_train.values.reshape(-1,1))\n",
    "X_train_std = scaler_X.transform(X_train)\n",
    "y_train_std = scaler_y.transform(y_train.values.reshape(-1,1)).ravel()\n",
    "lr_std = LinearRegression().fit(X_train_std, y_train_std)\n",
    "std_betas = pd.Series(lr_std.coef_, index=X_train.columns)\n",
    "std_betas_abs = std_betas.abs()\n",
    "\n",
    "# p-values (safe numeric conversion for statsmodels)\n",
    "# Force all features to numeric (coerce errors to NaN)\n",
    "X_train_num = X_train.apply(pd.to_numeric, errors='coerce')\n",
    "X_train_num = X_train_num.fillna(0)   # replace NaN with 0 (or you can drop columns if you prefer)\n",
    "\n",
    "# Add constant for intercept\n",
    "X_train_sm = sm.add_constant(X_train_num)\n",
    "\n",
    "# Also ensure y is numeric\n",
    "y_train_num = pd.to_numeric(y_train, errors='coerce')\n",
    "\n",
    "# Fit OLS safely\n",
    "ols = sm.OLS(y_train_num, X_train_sm.astype(float)).fit()\n",
    "\n",
    "# Extract p-values\n",
    "p_values = ols.pvalues.drop('const')\n",
    "\n",
    "print(ols.summary())  # optional\n",
    "\n",
    "\n",
    "\n",
    "# VIF\n",
    "def compute_vif(df_features):\n",
    "    # Keep only numeric columns (avoid errors with categorical/object types)\n",
    "    df_num = df_features.select_dtypes(include=[np.number])\n",
    "    \n",
    "    X_sm = sm.add_constant(df_num)\n",
    "    vifs = pd.Series(\n",
    "        [variance_inflation_factor(X_sm.values, i) for i in range(X_sm.shape[1])],\n",
    "        index=X_sm.columns\n",
    "    )\n",
    "    return vifs.drop(\"const\")\n",
    "\n",
    "\n"
   ]
  },
  {
   "cell_type": "markdown",
   "id": "b7d358a9",
   "metadata": {},
   "source": [
    "## 8) Model 3 — Remove weak features and refit\n",
    "\n",
    "We drop the weak features from X and fit a new linear model."
   ]
  },
  {
   "cell_type": "code",
   "execution_count": 33,
   "id": "7d7eb52a",
   "metadata": {},
   "outputs": [
    {
     "name": "stdout",
     "output_type": "stream",
     "text": [
      "Removed weak features: []\n"
     ]
    },
    {
     "name": "stderr",
     "output_type": "stream",
     "text": [
      "c:\\Users\\rajku\\anaconda3\\Lib\\site-packages\\sklearn\\metrics\\_regression.py:492: FutureWarning: 'squared' is deprecated in version 1.4 and will be removed in 1.6. To calculate the root mean squared error, use the function'root_mean_squared_error'.\n",
      "  warnings.warn(\n",
      "c:\\Users\\rajku\\anaconda3\\Lib\\site-packages\\sklearn\\metrics\\_regression.py:492: FutureWarning: 'squared' is deprecated in version 1.4 and will be removed in 1.6. To calculate the root mean squared error, use the function'root_mean_squared_error'.\n",
      "  warnings.warn(\n"
     ]
    },
    {
     "data": {
      "text/html": [
       "<div>\n",
       "<style scoped>\n",
       "    .dataframe tbody tr th:only-of-type {\n",
       "        vertical-align: middle;\n",
       "    }\n",
       "\n",
       "    .dataframe tbody tr th {\n",
       "        vertical-align: top;\n",
       "    }\n",
       "\n",
       "    .dataframe thead th {\n",
       "        text-align: right;\n",
       "    }\n",
       "</style>\n",
       "<table border=\"1\" class=\"dataframe\">\n",
       "  <thead>\n",
       "    <tr style=\"text-align: right;\">\n",
       "      <th></th>\n",
       "      <th>Model</th>\n",
       "      <th>R2_train</th>\n",
       "      <th>R2_test</th>\n",
       "      <th>RMSE_train</th>\n",
       "      <th>RMSE_test</th>\n",
       "      <th>MAE_test</th>\n",
       "    </tr>\n",
       "  </thead>\n",
       "  <tbody>\n",
       "    <tr>\n",
       "      <th>0</th>\n",
       "      <td>Model 3 — After Removing Weak Features</td>\n",
       "      <td>0.8703</td>\n",
       "      <td>0.8349</td>\n",
       "      <td>1,303.3396</td>\n",
       "      <td>1,484.2654</td>\n",
       "      <td>990.8873</td>\n",
       "    </tr>\n",
       "  </tbody>\n",
       "</table>\n",
       "</div>"
      ],
      "text/plain": [
       "                                    Model  R2_train  R2_test  RMSE_train  \\\n",
       "0  Model 3 — After Removing Weak Features    0.8703   0.8349  1,303.3396   \n",
       "\n",
       "   RMSE_test  MAE_test  \n",
       "0 1,484.2654  990.8873  "
      ]
     },
     "execution_count": 33,
     "metadata": {},
     "output_type": "execute_result"
    }
   ],
   "source": [
    "\n",
    "from sklearn.metrics import r2_score, mean_squared_error, mean_absolute_error\n",
    "\n",
    "def evaluate_model(model, Xtr, ytr, Xte, yte, name=''):\n",
    "    \"\"\"Return R^2, RMSE, MAE for train/test.\"\"\"\n",
    "    ytr_pred = model.predict(Xtr)\n",
    "    yte_pred = model.predict(Xte)\n",
    "    out = {\n",
    "        'Model': name,\n",
    "        'R2_train': r2_score(ytr, ytr_pred),\n",
    "        'R2_test': r2_score(yte, yte_pred),\n",
    "        'RMSE_train': mean_squared_error(ytr, ytr_pred, squared=False),\n",
    "        'RMSE_test': mean_squared_error(yte, yte_pred, squared=False),\n",
    "        'MAE_test': mean_absolute_error(yte, yte_pred)\n",
    "    }\n",
    "    return out\n",
    "# Ensure weak_features exists (if Model 2 flagged nothing, keep all features)\n",
    "try:\n",
    "    weak_features\n",
    "except NameError:\n",
    "    weak_features = []\n",
    "\n",
    "X_train_m3 = X_train.drop(columns=weak_features, errors='ignore')\n",
    "X_test_m3  = X_test.drop(columns=weak_features, errors='ignore')\n",
    "\n",
    "model3 = LinearRegression().fit(X_train_m3, y_train)\n",
    "m3_metrics = evaluate_model(model3, X_train_m3, y_train, X_test_m3, y_test, name='Model 3 — After Removing Weak Features')\n",
    "\n",
    "\n",
    "print(\"Removed weak features:\", weak_features)\n",
    "pd.DataFrame([m3_metrics])\n",
    "\n"
   ]
  },
  {
   "cell_type": "markdown",
   "id": "bac6d07e",
   "metadata": {},
   "source": [
    "## 9) Simple plots: Actual vs Predicted on Test set\n",
    "\n",
    "Compare Model 1 and Model 3 visually."
   ]
  },
  {
   "cell_type": "code",
   "execution_count": 34,
   "id": "50ab4a07",
   "metadata": {},
   "outputs": [
    {
     "data": {
      "image/png": "[encoded data removed]",
      "text/plain": [
       "<Figure size 600x500 with 1 Axes>"
      ]
     },
     "metadata": {},
     "output_type": "display_data"
    }
   ],
   "source": [
    "\n",
    "y_pred_m3 = m3.predict(X_test_m3)\n",
    "\n",
    "y_pred_m3 = model3.predict(X_test_m3)\n",
    "\n",
    "plt.figure(figsize=(6,5))\n",
    "plt.scatter(y_test, y_pred_m1, alpha=0.6, label='Model 1')\n",
    "plt.scatter(y_test, y_pred_m3, alpha=0.6, label='Model 3')\n",
    "plt.plot([y_test.min(), y_test.max()], [y_test.min(), y_test.max()], 'k--')\n",
    "plt.xlabel('Actual Price')\n",
    "plt.ylabel('Predicted Price')\n",
    "plt.legend()\n",
    "plt.title('Actual vs Predicted (Test Set)')\n",
    "plt.tight_layout()\n",
    "plt.show()\n"
   ]
  },
  {
   "cell_type": "markdown",
   "id": "b93e3450",
   "metadata": {},
   "source": [
    "## 10) Lasso & Ridge (simple)\n",
    "\n",
    "Fit LassoCV and RidgeCV with scaling and compare test performance."
   ]
  },
  {
   "cell_type": "code",
   "execution_count": 31,
   "id": "a807dd01",
   "metadata": {},
   "outputs": [
    {
     "name": "stderr",
     "output_type": "stream",
     "text": [
      "c:\\Users\\rajku\\anaconda3\\Lib\\site-packages\\sklearn\\metrics\\_regression.py:492: FutureWarning: 'squared' is deprecated in version 1.4 and will be removed in 1.6. To calculate the root mean squared error, use the function'root_mean_squared_error'.\n",
      "  warnings.warn(\n",
      "c:\\Users\\rajku\\anaconda3\\Lib\\site-packages\\sklearn\\metrics\\_regression.py:492: FutureWarning: 'squared' is deprecated in version 1.4 and will be removed in 1.6. To calculate the root mean squared error, use the function'root_mean_squared_error'.\n",
      "  warnings.warn(\n",
      "c:\\Users\\rajku\\anaconda3\\Lib\\site-packages\\sklearn\\metrics\\_regression.py:492: FutureWarning: 'squared' is deprecated in version 1.4 and will be removed in 1.6. To calculate the root mean squared error, use the function'root_mean_squared_error'.\n",
      "  warnings.warn(\n",
      "c:\\Users\\rajku\\anaconda3\\Lib\\site-packages\\sklearn\\metrics\\_regression.py:492: FutureWarning: 'squared' is deprecated in version 1.4 and will be removed in 1.6. To calculate the root mean squared error, use the function'root_mean_squared_error'.\n",
      "  warnings.warn(\n"
     ]
    },
    {
     "data": {
      "text/html": [
       "<div>\n",
       "<style scoped>\n",
       "    .dataframe tbody tr th:only-of-type {\n",
       "        vertical-align: middle;\n",
       "    }\n",
       "\n",
       "    .dataframe tbody tr th {\n",
       "        vertical-align: top;\n",
       "    }\n",
       "\n",
       "    .dataframe thead th {\n",
       "        text-align: right;\n",
       "    }\n",
       "</style>\n",
       "<table border=\"1\" class=\"dataframe\">\n",
       "  <thead>\n",
       "    <tr style=\"text-align: right;\">\n",
       "      <th></th>\n",
       "      <th>R2_train</th>\n",
       "      <th>R2_test</th>\n",
       "      <th>RMSE_train</th>\n",
       "      <th>RMSE_test</th>\n",
       "      <th>MAE_test</th>\n",
       "      <th>alpha</th>\n",
       "    </tr>\n",
       "    <tr>\n",
       "      <th>Model</th>\n",
       "      <th></th>\n",
       "      <th></th>\n",
       "      <th></th>\n",
       "      <th></th>\n",
       "      <th></th>\n",
       "      <th></th>\n",
       "    </tr>\n",
       "  </thead>\n",
       "  <tbody>\n",
       "    <tr>\n",
       "      <th>Ridge</th>\n",
       "      <td>0.8671</td>\n",
       "      <td>0.8416</td>\n",
       "      <td>1,319.2821</td>\n",
       "      <td>1,453.8056</td>\n",
       "      <td>993.0481</td>\n",
       "      <td>92.3671</td>\n",
       "    </tr>\n",
       "    <tr>\n",
       "      <th>Lasso</th>\n",
       "      <td>0.8689</td>\n",
       "      <td>0.8424</td>\n",
       "      <td>1,310.2572</td>\n",
       "      <td>1,450.1089</td>\n",
       "      <td>994.2807</td>\n",
       "      <td>48.2986</td>\n",
       "    </tr>\n",
       "  </tbody>\n",
       "</table>\n",
       "</div>"
      ],
      "text/plain": [
       "       R2_train  R2_test  RMSE_train  RMSE_test  MAE_test   alpha\n",
       "Model                                                            \n",
       "Ridge    0.8671   0.8416  1,319.2821 1,453.8056  993.0481 92.3671\n",
       "Lasso    0.8689   0.8424  1,310.2572 1,450.1089  994.2807 48.2986"
      ]
     },
     "execution_count": 31,
     "metadata": {},
     "output_type": "execute_result"
    }
   ],
   "source": [
    "\n",
    "alphas = np.logspace(-3,3,30)\n",
    "ridge_pipe = Pipeline([('scale', StandardScaler()), ('ridge', RidgeCV(alphas=alphas, cv=5))])\n",
    "lasso_pipe = Pipeline([('scale', StandardScaler()), ('lasso', LassoCV(cv=5, max_iter=10000))])\n",
    "\n",
    "ridge_pipe.fit(X_train, y_train)\n",
    "lasso_pipe.fit(X_train, y_train)\n",
    "\n",
    "ridge_info = evaluate('Ridge', ridge_pipe, X_train, y_train, X_test, y_test)\n",
    "ridge_info['alpha'] = ridge_pipe.named_steps['ridge'].alpha_\n",
    "lasso_info = evaluate('Lasso', lasso_pipe, X_train, y_train, X_test, y_test)\n",
    "lasso_info['alpha'] = lasso_pipe.named_steps['lasso'].alpha_\n",
    "\n",
    "pd.DataFrame([ridge_info, lasso_info]).set_index('Model')\n"
   ]
  },
  {
   "cell_type": "markdown",
   "id": "8f41d968",
   "metadata": {},
   "source": [
    "## Interview Questions\n",
    "### 1. What is Normalization & Standardization?\n",
    "- **Normalization**: Scales values between 0 and 1. Useful when features have very different ranges.\n",
    "- **Standardization**: Converts data to have mean 0 and standard deviation 1. Useful when applying linear models.\n",
    "\n",
    "### 2.What techniques can be used to address multicollinearity in multiple linear regression?\n",
    "- Remove highly correlated features.\n",
    "- Use **Variance Inflation Factor (VIF)** to detect multicollinearity.\n",
    "- Apply **Regularization (Ridge/Lasso)** to reduce effect of multicollinearity.\n",
    "- Use **PCA (Principal Component Analysis)** if needed.\n"
   ]
  },
  {
   "cell_type": "markdown",
   "id": "05098024",
   "metadata": {},
   "source": []
  }
 ],
 "metadata": {
  "kernelspec": {
   "display_name": "base",
   "language": "python",
   "name": "python3"
  },
  "language_info": {
   "codemirror_mode": {
    "name": "ipython",
    "version": 3
   },
   "file_extension": ".py",
   "mimetype": "text/x-python",
   "name": "python",
   "nbconvert_exporter": "python",
   "pygments_lexer": "ipython3",
   "version": "3.12.7"
  }
 },
 "nbformat": 4,
 "nbformat_minor": 5
}
