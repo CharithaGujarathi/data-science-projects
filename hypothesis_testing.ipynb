{
 "cells": [
  {
   "cell_type": "markdown",
   "metadata": {},
   "source": [
    "# Hypothesis Testing: Weekly Operating Cost\n",
    "\n",
    "We want to check if the weekly cost of restaurants is higher than the model predicts.\n",
    "\n",
    "## Step 1: State the Hypotheses\n",
    "- **Null Hypothesis (H0):** The average weekly cost = Rs. 4000 (model is correct).\n",
    "- **Alternative Hypothesis (H1):** The average weekly cost > Rs. 4000 (cost is higher than model)."
   ]
  },
  {
   "cell_type": "markdown",
   "metadata": {},
   "source": [
    "## Step 2: Calculate Theoretical Cost\n",
    "The cost model is:\n",
    "\\[ W = 1000 + 5X \\]\n",
    "For X = 600 units:\n",
    "\\[ W = 1000 + 5(600) = 4000 \\]\n",
    "So, the theoretical mean = Rs. 4000."
   ]
  },
  {
   "cell_type": "code",
   "execution_count": 1,
   "metadata": {},
   "outputs": [
    {
     "data": {
      "text/plain": [
       "4000"
      ]
     },
     "execution_count": 1,
     "metadata": {},
     "output_type": "execute_result"
    }
   ],
   "source": [
    "import math\n",
    "\n",
    "# Given values\n",
    "sample_mean = 3050  # observed mean\n",
    "mu = 1000 + 5*600   # theoretical mean\n",
    "sigma = 5*25        # standard deviation of weekly cost\n",
    "n = 25              # sample size\n",
    "\n",
    "mu"
   ]
  },
  {
   "cell_type": "markdown",
   "metadata": {},
   "source": [
    "## Step 3: Compute the Test Statistic\n",
    "Formula:\n",
    "\\[ t = \\frac{\\bar{x} - \\mu}{\\sigma / \\sqrt{n}} \\]\n",
    "\n",
    "- \\(\\bar{x}\\) = 3050\n",
    "- \\(\\mu\\) = 4000\n",
    "- \\(\\sigma\\) = 125\n",
    "- \\(n\\) = 25"
   ]
  },
  {
   "cell_type": "code",
   "execution_count": 2,
   "metadata": {},
   "outputs": [
    {
     "data": {
      "text/plain": [
       "-38.0"
      ]
     },
     "execution_count": 2,
     "metadata": {},
     "output_type": "execute_result"
    }
   ],
   "source": [
    "t_stat = (sample_mean - mu) / (sigma / math.sqrt(n))\n",
    "t_stat"
   ]
  },
  {
   "cell_type": "markdown",
   "metadata": {},
   "source": [
    "## Step 4: Find the Critical Value\n",
    "For alpha = 0.05 and a **right-tailed test**, the critical value from Z-table is:\n",
    "\\[ Z_{0.05} = 1.645 \\]"
   ]
  },
  {
   "cell_type": "code",
   "execution_count": 3,
   "metadata": {},
   "outputs": [
    {
     "data": {
      "text/plain": [
       "1.645"
      ]
     },
     "execution_count": 3,
     "metadata": {},
     "output_type": "execute_result"
    }
   ],
   "source": [
    "critical_value = 1.645\n",
    "critical_value"
   ]
  },
  {
   "cell_type": "markdown",
   "metadata": {},
   "source": [
    "## Step 5: Make a Decision\n",
    "- If t > critical value-> Reject H0 (cost is higher).\n",
    "- If t ≤ critical value -> Do not reject H0 (cost is not higher)."
   ]
  },
  {
   "cell_type": "code",
   "execution_count": 5,
   "metadata": {},
   "outputs": [
    {
     "data": {
      "text/plain": [
       "'Do not reject H0 -> Not enough proof that costs are higher.'"
      ]
     },
     "execution_count": 5,
     "metadata": {},
     "output_type": "execute_result"
    }
   ],
   "source": [
    "if t_stat > critical_value:\n",
    "    result = \"Reject H0 -> Costs are higher than model predicts.\"\n",
    "else:\n",
    "    result = \"Do not reject H0 -> Not enough proof that costs are higher.\"\n",
    "result"
   ]
  },
  {
   "cell_type": "markdown",
   "metadata": {},
   "source": [
    "## Step 6: Conclusion\n",
    "\n",
    "* The model says the average weekly cost should be **₹4000**.\n",
    "* Our sample of 25 restaurants has an average of **₹3050**, which is **lower**, not higher.\n",
    "* Test statistic = **-38.0** and the right-tail critical value at 5% is **1.645**.\n",
    "* Because **-38.0 < 1.645**, we **do not reject** the null hypothesis.\n",
    "There is **no evidence** that weekly costs are higher than the model. In fact, this sample suggests costs are **much lower** than ₹4000. If the claim is “costs are higher,” this data **does not support** that claim.\n"
   ]
  },
  {
   "cell_type": "markdown",
   "id": "10163221",
   "metadata": {},
   "source": []
  }
 ],
 "metadata": {
  "kernelspec": {
   "display_name": "base",
   "language": "python",
   "name": "python3"
  },
  "language_info": {
   "codemirror_mode": {
    "name": "ipython",
    "version": 3
   },
   "file_extension": ".py",
   "mimetype": "text/x-python",
   "name": "python",
   "nbconvert_exporter": "python",
   "pygments_lexer": "ipython3",
   "version": "3.12.7"
  }
 },
 "nbformat": 4,
 "nbformat_minor": 5
}
